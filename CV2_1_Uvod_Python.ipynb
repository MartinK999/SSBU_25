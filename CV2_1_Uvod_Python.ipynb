{
 "cells": [
  {
   "cell_type": "markdown",
   "id": "4fa6218e1149088f",
   "metadata": {},
   "source": [
    "# SSBU CV2: Úvod do Pythonu\n",
    "\n",
    "## Python\n",
    "Python je vysokoúrovňový programovací jazyk, ktorý je:\n",
    "- Interpretovaný (nevytvára spustiteľný kód),\n",
    "- Objektovo-orientovaný,\n",
    "- Freeware a open source,\n",
    "- Dynamicky typovaný,\n",
    "- Rozsiahly na knižnice, najmä na spracovanie a vizualizáciu údajov, štatistiku a strojové učenie.\n",
    "\n",
    "---\n",
    "\n",
    "## **1. Základná syntax**\n",
    "### Kľúčové vlastnosti:\n",
    "- Kód sa oddeľuje **odsadením (indentáciou - tab)** (nie zátvorkami ako v C/C++).\n",
    "- Premenné sa **nemusia vytvárať s definovaním dátového typu** – Python ho priradí automaticky a môže sa dynamicky meniť.\n",
    "- Na výpis na konzolu používame **funkciu `print()`** - [Dokumentácia print()](https://docs.python.org/3/library/functions.html#print).\n",
    "\n",
    "**Príklad:**"
   ]
  },
  {
   "cell_type": "code",
   "id": "8d0e8de1420fe677",
   "metadata": {
    "vscode": {
     "languageId": "r"
    },
    "ExecuteTime": {
     "end_time": "2025-03-06T07:09:03.456618Z",
     "start_time": "2025-03-06T07:09:03.413034Z"
    }
   },
   "source": "print(\"Hello, sda, World!\")",
   "outputs": [
    {
     "name": "stdout",
     "output_type": "stream",
     "text": [
      "[1] \"Hello, sda, World!\"\n"
     ]
    }
   ],
   "execution_count": 4
  },
  {
   "cell_type": "markdown",
   "id": "8f2c2c3db34da1b1",
   "metadata": {},
   "source": [
    "**Úloha na precvičenie:** Napíšte príkaz, ktorý vypíše vaše meno a vek."
   ]
  },
  {
   "cell_type": "code",
   "execution_count": null,
   "id": "9abeb811467ec96c",
   "metadata": {
    "vscode": {
     "languageId": "r"
    }
   },
   "outputs": [],
   "source": [
    "# TODO"
   ]
  },
  {
   "cell_type": "markdown",
   "id": "83445a310e25b960",
   "metadata": {},
   "source": [
    "---\n",
    "\n",
    "## **2. Dátové typy a premenné**\n",
    "### Základné dátové typy v Pythone:\n",
    "- Vstavané dátové typy a operácie: [Dokumentácia Built-in Types](https://docs.python.org/3/library/stdtypes.html)\n",
    "- **Textové:** `str`\n",
    "- **Číselné:** `int`, `float`, `complex`\n",
    "- **Sekvenčné:** `list`, `tuple`, `range`\n",
    "- **Mapovacie:** `dict`\n",
    "- **Množinové:** `set`, `frozenset`\n",
    "- **Booleovské:** `bool`\n",
    "- **Binárne:** `bytes`, `bytearray`, `memoryview`\n",
    "- **None:** `NoneType` (None objekt - neobsahuje hodnotu) - [Dokumentácia NoneType](https://docs.python.org/3/library/constants.html#None)\n",
    "\n",
    "+ dalšie - [Dokumentácia Python Data Types](https://docs.python.org/3/library/datatypes.html)\n",
    "\n",
    "+ zistenie typu premennej - funkcia type - [Dokumentácia type](https://docs.python.org/3/library/functions.html#type)\n",
    "\n",
    "**Príklad:**"
   ]
  },
  {
   "cell_type": "code",
   "id": "66fc3343c706d604",
   "metadata": {
    "vscode": {
     "languageId": "r"
    },
    "ExecuteTime": {
     "end_time": "2025-03-06T07:09:28.875762Z",
     "start_time": "2025-03-06T07:09:28.797499Z"
    }
   },
   "source": [
    "name = \"John\"\n",
    "age = 25\n",
    "height = 6.2\n",
    "\n",
    "print(type(name), type(age), type(height))"
   ],
   "outputs": [
    {
     "ename": "ERROR",
     "evalue": "Error in type(name): could not find function \"type\"\n",
     "output_type": "error",
     "traceback": [
      "Error in type(name): could not find function \"type\"\nTraceback:\n",
      "1. print(type(name), type(age), type(height))"
     ]
    }
   ],
   "execution_count": 5
  },
  {
   "cell_type": "markdown",
   "id": "76c54aaaf55910fb",
   "metadata": {},
   "source": [
    "**Úloha:** Vytvorte a inicializujte premenné `blood_type`, `insurance_code` a `allergic_to_paracetamol` a vypíšte ich dátové typy."
   ]
  },
  {
   "cell_type": "code",
   "execution_count": null,
   "id": "468bbb640e85d19c",
   "metadata": {
    "vscode": {
     "languageId": "r"
    }
   },
   "outputs": [],
   "source": [
    "# TODO"
   ]
  },
  {
   "cell_type": "markdown",
   "id": "686f09f36b1452d7",
   "metadata": {},
   "source": [
    "---\n",
    "\n",
    "## **3. Operátory**\n",
    "Operátory sú použiteľné štandardne, alebo ako funkcie (potrebné importovaqť modul operator) - [Dokumentácia operator](https://docs.python.org/3/library/operator.html)\n",
    "\n",
    "Python podporuje:\n",
    "- **Aritmetické operátory:** `+`, `-`, `*`, `/`, `//`, `%`, `**`\n",
    "- **Porovnávacie operátory:** `==`, `!=`, `>`, `<`, `>=`, `<=`\n",
    "- **Logické operátory:** `and`, `or`, `not` - pozor na typy, ktoré porovnávate (napr. bool a int)\n",
    "\n",
    "**Príklad:**"
   ]
  },
  {
   "cell_type": "code",
   "id": "1abccdcdeaff0c4",
   "metadata": {
    "vscode": {
     "languageId": "r"
    },
    "ExecuteTime": {
     "end_time": "2025-03-06T07:09:53.013741Z",
     "start_time": "2025-03-06T07:09:52.984230Z"
    }
   },
   "source": [
    "# arithmetic operations\n",
    "x, y = 10, 3\n",
    "print(x + y, x * y, x > y, x and y)\n",
    "\n",
    "# comparison operations\n",
    "print(\"Is x smaller than y?: \", x < y)\n",
    "\n",
    "import operator\n",
    "compare = operator.ge(x, y) # greater or equal\n",
    "print(\"Is x greater or equal to y?:\", compare)\n",
    "\n",
    "# logical operations\n",
    "is_allergic = True\n",
    "is_true = is_allergic or 0\n",
    "print(\"Value of is_true:\", is_true)\n",
    "print(\"Operator sign comparison: \", is_true & False)"
   ],
   "outputs": [
    {
     "ename": "ERROR",
     "evalue": "Error in parse(text = x, srcfile = src): <text>:2:2: unexpected ','\n1: # arithmetic operations\n2: x,\n    ^\n",
     "output_type": "error",
     "traceback": [
      "Error in parse(text = x, srcfile = src): <text>:2:2: unexpected ','\n1: # arithmetic operations\n2: x,\n    ^\nTraceback:\n"
     ]
    }
   ],
   "execution_count": 6
  },
  {
   "cell_type": "markdown",
   "id": "c43ab5c4eb0fc03c",
   "metadata": {},
   "source": [
    "**Úloha:** Vytvorte premenné `a = 20`, `b = 5` a vypočítajte súčet, rozdiel a ich podiel."
   ]
  },
  {
   "cell_type": "code",
   "execution_count": null,
   "id": "1d58c470be64c695",
   "metadata": {
    "vscode": {
     "languageId": "r"
    }
   },
   "outputs": [],
   "source": [
    "# TODO"
   ]
  },
  {
   "cell_type": "markdown",
   "id": "ee030fd31949fb8c",
   "metadata": {},
   "source": [
    "---\n",
    "\n",
    "## **4. Podmienky**\n",
    "### Kľúčové vlastnosti:\n",
    "- Používame `if`, `elif`, `else` na riadenie toku programu.\n",
    "- Kód v jednotlivých vetvách sú oddelené odsadením.\n",
    "\n",
    "**Príklad:**"
   ]
  },
  {
   "cell_type": "code",
   "execution_count": null,
   "id": "4331862117e16934",
   "metadata": {
    "vscode": {
     "languageId": "r"
    }
   },
   "outputs": [],
   "source": [
    "age = 18\n",
    "if age < 18:\n",
    "    print(\"You are a minor.\")\n",
    "elif age == 18:\n",
    "    print(\"You have just become an adult.\")\n",
    "else:\n",
    "    print(\"You are an adult.\")"
   ]
  },
  {
   "cell_type": "markdown",
   "id": "399a228bbbfbb3c0",
   "metadata": {},
   "source": [
    "**Úloha:** Napíšte kód, ktorý skontroluje, či je číslo párne alebo nepárne a overte ho použitím rôznych čísel. - [Dokumentácia expressions (modulo)](https://docs.python.org/3/reference/expressions.html)\n"
   ]
  },
  {
   "cell_type": "code",
   "execution_count": null,
   "id": "6aaae02a1744ff97",
   "metadata": {
    "vscode": {
     "languageId": "r"
    }
   },
   "outputs": [],
   "source": [
    "# TODO"
   ]
  },
  {
   "cell_type": "markdown",
   "id": "b7ecc6fcd1e661b9",
   "metadata": {},
   "source": [
    "---\n",
    "\n",
    "## **5. Cykly**\n",
    "- `for` cyklus pre iteráciu cez zoznamy a sekvencie.\n",
    "- `while` cyklus na opakovanie, kým je podmienka splnená.\n",
    "- Použitie `break` a `continue` je rovnaké ako v iných programovacích jazykoch\n",
    "- Použitie `else` - Táto vetva obsahuje príkazy, ktoré sa majú vykonať po vykonaní cyklu, ak nebol ukončený pomocou `break`\n",
    "- Pri `for` cykle je potrebné vytvoriť iterovateľný objekt - napr. sekvenciu čísel, zoznam, slovník, množinu, alebo iný iterovateľný objekt\n",
    "    - Funkcia `range` - sekvencia čísel - [Dokumentácia range](https://docs.python.org/3/library/functions.html#func-range)\n",
    "    - Funkcia `len` - dlžka zoznamu - [Dokumentácia len](https://docs.python.org/3/library/functions.html#len)\n",
    "\n",
    "\n",
    "**Príklad:**"
   ]
  },
  {
   "cell_type": "code",
   "execution_count": null,
   "id": "c152339f516823b0",
   "metadata": {
    "vscode": {
     "languageId": "r"
    }
   },
   "outputs": [],
   "source": [
    "for i in range(5):\n",
    "    print(i)"
   ]
  },
  {
   "cell_type": "markdown",
   "id": "7939d9ff1942cb73",
   "metadata": {},
   "source": [
    "**Úloha:** Napíšte program, ktorý vypíše čísla od 10 do 1. Použite `for` cyklus a funkciu `range`."
   ]
  },
  {
   "cell_type": "code",
   "execution_count": null,
   "id": "ad8a6fdb4cde9c46",
   "metadata": {
    "vscode": {
     "languageId": "r"
    }
   },
   "outputs": [],
   "source": [
    "# TODO"
   ]
  },
  {
   "cell_type": "markdown",
   "id": "60b752f0ab59070a",
   "metadata": {},
   "source": [
    "---\n",
    "\n",
    "## **6. Funkcie**\n",
    "- Definujeme ich pomocou kľúčového slova `def` a odsadením tela funkcie.\n",
    "- Môžu mať parametre a návratové hodnoty.\n",
    "- Parametrom funkcie sa môže ale nemusí definovať typ\n",
    "- Voliteľné parametre majú predvolenú hodnotu, ktorá sa nastaví, ak hodnota parametra nie je definovaná\n",
    "- Dokumentačné komentáre sa nachádzajú pod definíciou (vo vnútri triedy/funkcie) - označené `\"\"\"`\n",
    "\n",
    "**Príklad:**"
   ]
  },
  {
   "cell_type": "code",
   "execution_count": null,
   "id": "baa6adbd7c29df99",
   "metadata": {
    "vscode": {
     "languageId": "r"
    }
   },
   "outputs": [],
   "source": [
    "# age is optional\n",
    "def greet(name, age = -1):\n",
    "    # documentation comment\n",
    "    \"\"\"Function to greet a person.\"\"\"\n",
    "    print(\"Name:\", name, \"\\tAge: \", age)\n",
    "\n",
    "# function call\n",
    "greet(\"Alice\")\n",
    "greet(\"Benjamin\", 22)"
   ]
  },
  {
   "cell_type": "markdown",
   "id": "3c2f0a7a327671c3",
   "metadata": {},
   "source": [
    "**Úloha:** Napíšte funkciu, ktorá vypočíta a vráti druhú mocninu čísla. Použite voliteľný parameter pre zmenu exponentu. - [Dokumentácia functions](https://docs.python.org/3/tutorial/controlflow.html#defining-functions), [Dokumentácia pow](https://docs.python.org/3/library/functions.html#pow)"
   ]
  },
  {
   "cell_type": "code",
   "execution_count": null,
   "id": "dc7715153110d5c",
   "metadata": {
    "vscode": {
     "languageId": "r"
    }
   },
   "outputs": [],
   "source": [
    "# TODO"
   ]
  },
  {
   "cell_type": "markdown",
   "id": "30cce649f8d7c827",
   "metadata": {},
   "source": [
    "---\n",
    "\n",
    "## **7. Údajové štruktúry**\n",
    "- Základné štruktúry:\n",
    "    - list (`[]`)\n",
    "    - dictionary (`{kľúč : hodnota}`)\n",
    "    - set (`{}`)\n",
    "    - tuple (`()`)\n",
    "- [Dokumentacia datastructures](https://docs.python.org/3/tutorial/datastructures.html)\n",
    "\n",
    "**List (Zoznam):**\n",
    "\n",
    "- Definícia - pomocou `[]`\n",
    "- Uchováva poradie prvkov.\n",
    "- Prvky v liste sú indexované - každý prvok má priradený index (začínajúci od 0) na identifikáciu jeho pozície v zozname.\n",
    "- Je `mutable` - jeho prvky môžu byť menené.\n",
    "\n",
    "**Dictionary (Slovník):**\n",
    "\n",
    "- Definícia - pomocou `{}` a kľúčov - `kľúč : hodnota`\n",
    "- Uchováva dáta v pároch kľúč-hodnota podobne ako objekty JSON.\n",
    "- Kľúče musia byť jedinečné a sú hashovateľné.\n",
    "- Poradie prvkov je zachované tak, ako boli vložené (od verzie 3.7).\n",
    "- Tiež je `mutable`.\n",
    "\n",
    "**Set (Množina):**\n",
    "\n",
    "- Definícia - pomocou `{}`\n",
    "- Obsahuje **jedinečné prvky**, žiadne duplikáty.\n",
    "- Prvky nie sú indexované, nie je možné ich získať pomocou indexu, nie je usporiadaná.\n",
    "- Je `mutable` a môže sa použiť na vykonávanie matematických operácií množín, ako sú zjednotenie, prienik, rozdiel atď.\n",
    "\n",
    "**Tuple (N-tica):**\n",
    "\n",
    "- Definícia - pomocou `()`\n",
    "- Uchováva poradie prvkov.\n",
    "- Prvky sú indexované a každý prvok má svoj unikátny index.\n",
    "- Je `immutable` (nemeniteľná) - jeho prvky nemôžu byť po vytvorení zmenené.\n",
    "- Môže obsahovať rôzne dátové typy.\n",
    "\n",
    "**Príklad:**"
   ]
  },
  {
   "cell_type": "code",
   "execution_count": null,
   "id": "b1746d24e82c2d9c",
   "metadata": {
    "vscode": {
     "languageId": "r"
    }
   },
   "outputs": [],
   "source": [
    "# list\n",
    "numbers = [1, 2, 3, 4, 5]\n",
    "print(\"First element of the list:\", numbers[0])  # Accessing elements of the list by index\n",
    "numbers = numbers + [6, 7, 8]  # Adding elements to the list\n",
    "\n",
    "# dictionary\n",
    "person = {'name': 'Alice', 'age': 30, 'city': 'New York'}\n",
    "print(\"Name:\", person['name'])\n",
    "person['city'] = 'Los Angeles'  # Changing value of the key 'city'\n",
    "person['blood_type'] = 'A+'  # Adding new key-value pair\n",
    "\n",
    "# set\n",
    "medical_treatment = {'paracetamol', 'ibuprofen', 'aspirin'}\n",
    "print(\"Medical treatments:\", medical_treatment)\n",
    "medical_treatment.add('antibiotics')  # Adding new element to the set\n",
    "\n",
    "# tuples\n",
    "coordinates = (10, 20)\n",
    "print(\"Coordinates:\", coordinates)\n",
    "print(\"Coordinate x:\", coordinates[0])"
   ]
  },
  {
   "cell_type": "markdown",
   "id": "596fb1ba5a08da3d",
   "metadata": {},
   "source": [
    "**Úloha:** Vytvorte zoznam `patients` s údajmi o pacientoch (meno, vek, diagnóza). Vypíšte vek pacienta s indexom 2.\n"
   ]
  },
  {
   "cell_type": "code",
   "execution_count": null,
   "id": "9eb602ad4edf92b7",
   "metadata": {
    "vscode": {
     "languageId": "r"
    }
   },
   "outputs": [],
   "source": [
    "# TODO"
   ]
  },
  {
   "cell_type": "markdown",
   "id": "55ea3827ba1f0f4f",
   "metadata": {},
   "source": [
    "---\n",
    "\n",
    "## **8. Práca so súbormi**\n",
    "### Čítanie a zápis do súborov:\n",
    "- Pri otvorení súboru je potrebné definovať mód otvorenia - určuje, ako bude súbor použitý (čítanie, zápis, pridávanie do existujúceho súboru, atď.).\n",
    "    - 'w' pre zápis (vytvorenie súboru, prípadne prepis existujúceho súboru)\n",
    "    - 'r' pre čítanie\n",
    "    - 'a' pre pridávanie (zápis na koniec existujúceho súboru (append)).\n",
    "\n",
    "- Použitie `with` klauzuly (kontextový manažér) - [Dokumentácia input/output](https://docs.python.org/3/tutorial/inputoutput.html)\n",
    "    - Pomáha spravovať súbory, automatizuje zatvorenie súboru po tom, čo je blok kódu pod klauzulou with dokončený. (aj pri vyhodení výnimky)\n",
    "    - Znižuje riziko zanechania otvoreného súboru, čo by mohlo viesť k únikom pamäti alebo iným problémom.\n",
    "\n",
    "\n",
    "**Príklad:**"
   ]
  },
  {
   "cell_type": "code",
   "id": "813373e1fa4e224c",
   "metadata": {
    "vscode": {
     "languageId": "r"
    },
    "ExecuteTime": {
     "end_time": "2025-03-06T07:08:08.393826Z",
     "start_time": "2025-03-06T07:08:08.314539Z"
    }
   },
   "source": [
    "# writing to a file\n",
    "with open(\"data/example.csv\", \"w+\") as file:\n",
    "    file.write(\"patient_id,name,age,diagnosis\\n\") # writing a header\n",
    "\n",
    "# reading from a file\n",
    "with open('data/example.csv', 'r') as file:\n",
    "    contents = file.read()\n",
    "    print(\"File contents:\", contents)"
   ],
   "outputs": [
    {
     "ename": "ERROR",
     "evalue": "Error in parse(text = x, srcfile = src): <text>:2:6: unexpected symbol\n1: # writing to a file\n2: with open\n        ^\n",
     "output_type": "error",
     "traceback": [
      "Error in parse(text = x, srcfile = src): <text>:2:6: unexpected symbol\n1: # writing to a file\n2: with open\n        ^\nTraceback:\n"
     ]
    }
   ],
   "execution_count": 1
  },
  {
   "cell_type": "markdown",
   "id": "fe0c1ca898343a0f",
   "metadata": {},
   "source": [
    "**Úloha:** Otvorte súbor `example.csv`v móde \"append\" a zapíšte do neho údaje o troch pacientoch. (Údaje vymyslite)"
   ]
  },
  {
   "cell_type": "code",
   "execution_count": null,
   "id": "372b580d0806e48c",
   "metadata": {
    "vscode": {
     "languageId": "r"
    }
   },
   "outputs": [],
   "source": [
    "# TODO"
   ]
  },
  {
   "cell_type": "markdown",
   "id": "b27b680406c2704e",
   "metadata": {},
   "source": [
    "---\n",
    "## **9. Moduly**\n",
    "- Modulom môže byť akýkoľvek vlastný .py skript\n",
    "- Importuje sa do projektu použitím kĺúčového slova `import`\n",
    "- Pri importovaní modulu je možné priradiť mu alias - skratku, ktorá sa používa ďalej v skripte na zavolanie funkcií alebo metód tried modulu (napr. `import my_module as mod`)\n",
    "- Možnosť importovať len konkrétne objekty/funkcie z knižnice (napr. `from my_module import module_foo`)\n",
    "\n",
    "**Vytvorenie modulu**\n",
    "- Python skript (my_module.py)\n",
    "\n",
    "**Príklad:**"
   ]
  },
  {
   "cell_type": "code",
   "execution_count": null,
   "id": "9b33730fda66bf6c",
   "metadata": {
    "vscode": {
     "languageId": "r"
    }
   },
   "outputs": [],
   "source": [
    "import my_module\n",
    "\n",
    "my_module.module_foo()"
   ]
  },
  {
   "cell_type": "markdown",
   "id": "bbe559e794c45163",
   "metadata": {},
   "source": [
    "**Úloha:** Vytvorte vlastný modul a importujte ho do projektu s aliasom."
   ]
  },
  {
   "cell_type": "code",
   "execution_count": null,
   "id": "4f8c5be13bbed3ac",
   "metadata": {
    "vscode": {
     "languageId": "r"
    }
   },
   "outputs": [],
   "source": [
    "# TODO"
   ]
  },
  {
   "cell_type": "markdown",
   "id": "9b98fb7e24092dc6",
   "metadata": {},
   "source": [
    "---\n",
    "## **10. Ošetrovanie výnimiek**\n",
    "- Pri ošetrovaní výnimiek sa používa `try-except` blok - [Dokumentácia errors](https://docs.python.org/3/tutorial/errors.html)\n",
    "- Príklady základných typov výnimiek:\n",
    "    - TypeError: vykonanie operácie s nekompatibilným typom (sčítanie reťazca a čísla)\n",
    "    - IndexError: pristúpenie k prvku zoznamu pomocou indexu, ktorý je mimo rozsah\n",
    "    - KeyError: pristúpenie k hodnote v slovníku pomocou kľúča, ktorý neexistuje\n",
    "    - ValueError: funkcia dostane argument s nevhodnou hodnotou\n",
    "    - NameError: použitie nedefinovanej premennej\n",
    "    - FileNotFoundError: pokus o otvorenie neexistujúceho súboru\n",
    "    - ZeroDivisionError: delenie čísla nulou\n",
    "\n",
    "**Príklad:**"
   ]
  },
  {
   "cell_type": "code",
   "execution_count": null,
   "id": "2edbad1105791b08",
   "metadata": {
    "vscode": {
     "languageId": "r"
    }
   },
   "outputs": [],
   "source": [
    "undefined_variable = 5\n",
    "\n",
    "try:\n",
    "    print(undefined_variable)\n",
    "except NameError as e:\n",
    "    print(\"Error:\", e)"
   ]
  },
  {
   "cell_type": "markdown",
   "id": "689f0d864133a133",
   "metadata": {},
   "source": [
    "**Úloha:** Ošetrite výnimku pri delení čísla nulou."
   ]
  },
  {
   "cell_type": "code",
   "execution_count": null,
   "id": "34a11fd347b1c3fe",
   "metadata": {
    "vscode": {
     "languageId": "r"
    }
   },
   "outputs": [],
   "source": [
    "# TODO"
   ]
  },
  {
   "cell_type": "markdown",
   "id": "7016866aa8233a52",
   "metadata": {},
   "source": [
    "---\n",
    "## **11. Práca s obrázkami**\n",
    "Na prácu s obrázkami sa používajú knižnice, napr. pillow (PIL) - [Dokumentácia Image](https://pillow.readthedocs.io/en/stable/reference/Image.html)\n",
    "- Základnými operáciami pre prácu s obrázkami sú načítanie a uloženie (open/save)\n",
    "- Knižnice ponúkajú rôzne možnosti transformácie obrazu, napr. prevod na odtiene šedej (hodnoty 0-255) - funkcia convert [Dokumentácia convert](https://www.codecademy.com/resources/docs/pillow/image/convert)\n",
    "- Normalizácia obrazu (prevod na hodnoty 0-1) je prospešná pre strojové učenie\n",
    "- Knižnice ponúkajú množstvo ďalších úprav (rotácie, orezanie, zmena veľkosti, pridanie filtrov, atď.) - všetky operácie sú vždy dostupné v dokumentácii knižnice\n",
    "\n",
    "**Príklad:**"
   ]
  },
  {
   "cell_type": "code",
   "execution_count": null,
   "id": "ee5de52d53d85a75",
   "metadata": {
    "vscode": {
     "languageId": "r"
    }
   },
   "outputs": [],
   "source": [
    "# pip install pillow\n",
    "from PIL import Image\n",
    "img = Image.open(\"data/microscope.jpg\")\n",
    "gray_img = img.convert(\"L\")\n",
    "gray_img.save(\"data/microscope_g.jpg\")"
   ]
  },
  {
   "cell_type": "markdown",
   "id": "fbf2d08fe01efae0",
   "metadata": {},
   "source": [
    "**Úloha:** Otvorte obrázok `microscope_g.jpg`, otočte ho o 90° a uložte. Použite funkciu rotate - [Dokumentácia rotate](https://www.codecademy.com/resources/docs/pillow/image/rotate)"
   ]
  },
  {
   "cell_type": "code",
   "id": "379aabacf0af56cc",
   "metadata": {
    "vscode": {
     "languageId": "r"
    },
    "ExecuteTime": {
     "end_time": "2025-03-06T07:18:47.940335Z",
     "start_time": "2025-03-06T07:18:47.912172Z"
    }
   },
   "source": "which python\n",
   "outputs": [
    {
     "ename": "ERROR",
     "evalue": "Error in parse(text = x, srcfile = src): <text>:1:7: unexpected symbol\n1: which python\n          ^\n",
     "output_type": "error",
     "traceback": [
      "Error in parse(text = x, srcfile = src): <text>:1:7: unexpected symbol\n1: which python\n          ^\nTraceback:\n"
     ]
    }
   ],
   "execution_count": 6
  },
  {
   "cell_type": "markdown",
   "id": "d565edd9f486bdc2",
   "metadata": {},
   "source": [
    "---\n",
    "\n",
    "## **12. OOP v Pythone**\n",
    "- Triedy definujeme pomocou `class`.\n",
    "- Používame konštruktor `__init__`.\n",
    "- Prístup k atribútom triedy je pomocou `self`.\n",
    "- Metódy triedy majú ako prvý parameter `self`.\n",
    "- Metódy triedy sa volajú na inštancii triedy.\n",
    "- Atribúty triedy sú definované v konštruktore.\n",
    "- Metódy triedy sú definované v rámci triedy.\n",
    "- Prístup k atribútom triedy je pomocou `.`.\n",
    "- Vytvorenie inštancie triedy - `object = ClassName()`.\n",
    "- Dedičnosť - trieda môže dediť od inej triedy.\n",
    "- Trieda môže byť abstraktná - nemôže byť inštanciovaná, ale môže byť použitá ako základ pre iné triedy.\n",
    "- Polymorfizmus - triedy môžu mať metódy s rovnakým názvom, ale s rôznou implementáciou.\n",
    "- Encapsulácia - skrytie atribútov triedy pred priamym prístupom zvonku.\n",
    "- Private atribúty a metódy - začínajú dvojitým podčiarkovníkom `__`.\n",
    "\n",
    "**Príklad:**"
   ]
  },
  {
   "cell_type": "code",
   "execution_count": null,
   "id": "c657ed25f8f7cee1",
   "metadata": {
    "vscode": {
     "languageId": "r"
    }
   },
   "outputs": [],
   "source": [
    "class Patient:\n",
    "    def __init__(self, name, age, diagnosis):\n",
    "        self.name = name\n",
    "        self.age = age\n",
    "        self.diagnosis = diagnosis\n",
    "\n",
    "    def __check_if_info_is_defined(self):\n",
    "        if self.name and self.age and self.diagnosis:\n",
    "            return True\n",
    "        return False\n",
    "\n",
    "    def display_info(self):\n",
    "        if self.__check_if_info_is_defined():\n",
    "            print(f\"Patient: {self.name}, Age: {self.age}, Diagnosis: {self.diagnosis}\")\n",
    "        else:\n",
    "            print(\"Some of the information is undefined.\")\n",
    "\n",
    "p1 = Patient(\"Anna\", 30, \"Diabetes\")\n",
    "p2 = Patient(\"Peter\", 25, None)\n",
    "p1.display_info()\n",
    "p2.display_info()"
   ]
  },
  {
   "cell_type": "markdown",
   "id": "d1b6c7d78a6d71d",
   "metadata": {},
   "source": [
    "**Úloha:** Vytvorte triedu `Doctor` s atribútmi `name`, `specialization` a `patients`. Vytvorte metódu `add_patient`, ktorá pridá pacienta do zoznamu pacientov. - [Dokumentácia classes](https://docs.python.org/3/tutorial/classes.html). Pridajte pacientov p1 a p2 do zoznamu a vypíšte zoznam pacientov."
   ]
  },
  {
   "cell_type": "code",
   "execution_count": null,
   "id": "c3efd560a0e29b7c",
   "metadata": {
    "vscode": {
     "languageId": "r"
    }
   },
   "outputs": [],
   "source": [
    "# TODO"
   ]
  },
  {
   "cell_type": "markdown",
   "id": "7d41ffca60c2abbd",
   "metadata": {},
   "source": [
    "---\n",
    "\n",
    "## **13. Lambda funkcie**\n",
    "\n",
    "- Lambda funkcie sú anonymné funkcie, definované pomocou kľúčového slova lambda - [Dokumentácia lambda](https://docs.python.org/3/reference/expressions.html#lambda)\n",
    "- Môže mať ľubovoľný počet argumentov, a obsahuje výraz alebo list výrazov, ktorý je vyhodnotený a vrátený\n",
    "- Forma zápisu je `lambda arguments: expression`\n",
    "- Používa sa na definovanie jednoduchých funkcií, ktoré sa používajú len raz\n",
    "- Môže byť použitá spoločne s funkciami `map`, `filter`, `reduce`\n",
    "- Môže obsahovať podmienky a cykly\n",
    "\n",
    "**Príklad:**"
   ]
  },
  {
   "cell_type": "code",
   "id": "64b848f963580381",
   "metadata": {
    "vscode": {
     "languageId": "r"
    },
    "ExecuteTime": {
     "end_time": "2025-03-06T07:19:15.883037Z",
     "start_time": "2025-03-06T07:19:15.854794Z"
    }
   },
   "source": [
    "# Lambda function to calculate square of a number\n",
    "square = lambda x: x**2\n",
    "\n",
    "print(\"Square of 5 using lambda function:\", square(5))"
   ],
   "outputs": [
    {
     "ename": "ERROR",
     "evalue": "Error in parse(text = x, srcfile = src): <text>:2:17: unexpected symbol\n1: # Lambda function to calculate square of a number\n2: square = lambda x\n                   ^\n",
     "output_type": "error",
     "traceback": [
      "Error in parse(text = x, srcfile = src): <text>:2:17: unexpected symbol\n1: # Lambda function to calculate square of a number\n2: square = lambda x\n                   ^\nTraceback:\n"
     ]
    }
   ],
   "execution_count": 7
  },
  {
   "cell_type": "markdown",
   "id": "4a2140cec7e5905a",
   "metadata": {},
   "source": [
    "**Úloha:** Vytvorte lambda funkciu s podmienkou (`if-else`), ktorá vráti text `even` alebo `odd`, podľa toho, čí je číslo párne alebo nepárne. Použitie podmienky v lambda funkcii má formu `lambda arguments: true_return_expression if condition else false_return_expression`."
   ]
  },
  {
   "cell_type": "code",
   "execution_count": null,
   "id": "d9c33bfa3a2d39b2",
   "metadata": {
    "vscode": {
     "languageId": "r"
    }
   },
   "outputs": [],
   "source": [
    "# TODO"
   ]
  },
  {
   "cell_type": "markdown",
   "id": "cd3fbbc55c926e15",
   "metadata": {},
   "source": [
    "---\n",
    "## **14. Mapovanie, Filtrovanie a Redukcia**\n",
    "\n",
    "- Tieto fukcie sa používajú pri spracovaní kolekcií, ako sú zoznamy, slovníky, množiny, atď., podobne ako v jazyku Matlab.\n",
    "+ **`map`** - [Dokumentácia map](https://docs.python.org/3/library/functions.html#map)\n",
    "    - Aplikuje danú funkciu na každý prvok iterovateľného objektu (napr. zoznam) a vracia iterátor s výsledkami\n",
    "    - napr. použitie s lambda funkciou na výpočet štvorca každého čísla v zozname numbers\n",
    "+ **`filter`** - [Dokumentácia filter](https://docs.python.org/3/library/functions.html#filter)\n",
    "    - Odfiltruje prvky iterovateľného objektu, ponechávajúc len tie, pre ktoré funkcia vráti True\n",
    "    - napr. lambda funkcia s vyselektovanie len párnych čísel zo zoznamu numbers\n",
    "+ **`reduce`** - [Dokumentácia reduce](https://docs.python.org/3/library/functools.html)\n",
    "    - Postupne aplikuje funkciu na prvky iterovateľného objektu, znižuje ich na jediný výsledok\n",
    "    - napr. funkcia reduce z modulu functools s lambda funkciou na výpočet súčinu všetkých čísel v zozname numbers\n",
    "\n",
    "**Príklad:**"
   ]
  },
  {
   "cell_type": "code",
   "execution_count": null,
   "id": "9d1ac98b362b8f3a",
   "metadata": {
    "vscode": {
     "languageId": "r"
    }
   },
   "outputs": [],
   "source": [
    "# map function\n",
    "numbers = [1, 2, 3, 4, 5]\n",
    "\n",
    "squared_numbers = list(map(lambda x: x**2, numbers))\n",
    "print(\"Squared numbers:\", squared_numbers)\n",
    "\n",
    "# filter function\n",
    "even_numbers = list(filter(lambda x: x % 2 == 0, numbers))\n",
    "print(\"Even numbers:\", even_numbers)\n",
    "\n",
    "# reduce function\n",
    "from functools import reduce\n",
    "product = reduce(lambda x, y: x * y, numbers)\n",
    "print(\"Product of numbers:\", product)"
   ]
  },
  {
   "cell_type": "markdown",
   "id": "e5cafb251226a9bc",
   "metadata": {},
   "source": [
    "**Úloha:** Vytvorte zoznam `ages` s vekmi pacientov. Použite funkciu `filter` a lambda funkciu na vyselektovanie pacientov vo veku 18-65 rokov."
   ]
  },
  {
   "cell_type": "code",
   "id": "34f816d67fd39417",
   "metadata": {
    "vscode": {
     "languageId": "r"
    },
    "ExecuteTime": {
     "end_time": "2025-03-06T07:16:51.451970Z",
     "start_time": "2025-03-06T07:16:51.399970Z"
    }
   },
   "source": "print(type(\"Hello\"))\n",
   "outputs": [
    {
     "ename": "ERROR",
     "evalue": "Error in type(\"Hello\"): could not find function \"type\"\n",
     "output_type": "error",
     "traceback": [
      "Error in type(\"Hello\"): could not find function \"type\"\nTraceback:\n",
      "1. print(type(\"Hello\"))"
     ]
    }
   ],
   "execution_count": 4
  },
  {
   "cell_type": "markdown",
   "id": "b1fa5a086a841983",
   "metadata": {},
   "source": [
    "---\n",
    "\n",
    "## **15. Práca s DataFrame (Pandas)**\n",
    "Použitie knižnice `pandas` na spracovanie tabuliek - [Dokumentácia DataFrame](https://pandas.pydata.org/docs/reference/api/pandas.DataFrame.html)\n",
    "- Dataframe je dvojrozmerná dátová štruktúra (tabuľka) v knižnici Pandas, vhodná pre spracovanie textových a číselných datasetov\n",
    "- Práca so štruktúrovanými dátami\n",
    "- Využitie štruktúry DataFrame je vhodné najmä kvôli efektívnej implementácii rôznych operácií nad dátami\n",
    "- Základné vlastnosti DataFrame:\n",
    "    - Môže obsahovať heterogénne údaje - čísla, reťazce, objekty, ..\n",
    "    - Podporuje aritmetické operácie na riadkoch a stĺpcoch\n",
    "    - Umožňuje jednoduché zlučovanie, spájanie, filtrácia dát, atď.\n",
    "\n",
    "**Príklad:**"
   ]
  },
  {
   "cell_type": "code",
   "id": "2d9390b2de0a0a8d",
   "metadata": {
    "vscode": {
     "languageId": "r"
    },
    "ExecuteTime": {
     "end_time": "2025-03-06T07:15:59.631217Z",
     "start_time": "2025-03-06T07:15:59.607031Z"
    }
   },
   "source": [
    "import pandas as pd\n",
    "\n",
    "# create DataFrame from dictionary\n",
    "data = {\n",
    "    'name': ['Christina', 'Jan', 'Peter', 'Adam'],\n",
    "    'age': [28, 15, 29, 67],\n",
    "    'city': ['New York', 'Los Angeles', 'Chicago', 'Boston']\n",
    "}\n",
    "df = pd.DataFrame(data)\n",
    "\n",
    "# show dataframe\n",
    "print(df)"
   ],
   "outputs": [
    {
     "ename": "ERROR",
     "evalue": "Error in parse(text = x, srcfile = src): <text>:1:8: unexpected symbol\n1: import pandas\n           ^\n",
     "output_type": "error",
     "traceback": [
      "Error in parse(text = x, srcfile = src): <text>:1:8: unexpected symbol\n1: import pandas\n           ^\nTraceback:\n"
     ]
    }
   ],
   "execution_count": 3
  },
  {
   "cell_type": "markdown",
   "id": "eb99ce42c826a10e",
   "metadata": {},
   "source": [
    "**Úloha:** Vytvorte DataFrame s dátami zo súboru `data/example.csv`. Pre vytvorenie DataFrame priamo z csv súboru použite funkciu read_csv - [Dokumentácia read_csv](https://pandas.pydata.org/docs/reference/api/pandas.read_csv.html). Použite funkciu `describe` na zobrazenie štatistík dát - [Dokumentácia describe](https://pandas.pydata.org/docs/reference/api/pandas.DataFrame.describe.html)."
   ]
  },
  {
   "cell_type": "code",
   "execution_count": null,
   "id": "64245a12e265f0dd",
   "metadata": {
    "vscode": {
     "languageId": "r"
    }
   },
   "outputs": [],
   "source": [
    "# TODO"
   ]
  },
  {
   "cell_type": "markdown",
   "id": "ff7025f19295a540",
   "metadata": {},
   "source": [
    "---\n",
    "\n",
    "### **Zhrnutie**\n",
    "- Python je jednoduchý jazyk vhodný na spracovanie dát.\n",
    "- Poskytuje množstvo knižníc na spracovanie dát, strojové učenie, vizualizáciu, atď.\n",
    "\n",
    "##### Referencie\n",
    "\n",
    "https://docs.python.org/3.12/tutorial/index.html\n",
    "\n",
    "https://python.input.sk/z/01.html\n",
    "\n",
    "https://unsplash.com/photos/a-close-up-of-a-section-of-a-humans-stomach-Q2PkRn63Oug"
   ]
  }
 ],
 "metadata": {
  "kernelspec": {
   "display_name": "R",
   "language": "R",
   "name": "ir"
  },
  "language_info": {
   "codemirror_mode": {
    "name": "ipython",
    "version": 2
   },
   "file_extension": ".py",
   "mimetype": "text/x-python",
   "name": "R",
   "nbconvert_exporter": "python",
   "pygments_lexer": "ipython2",
   "version": "2.7.6"
  }
 },
 "nbformat": 4,
 "nbformat_minor": 5
}
